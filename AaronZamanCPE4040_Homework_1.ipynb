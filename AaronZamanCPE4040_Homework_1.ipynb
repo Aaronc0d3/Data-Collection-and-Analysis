{
 "cells": [
  {
   "cell_type": "markdown",
   "metadata": {},
   "source": [
    "<center><h1> CPE 4040 Spring 2024: Homework 2</h1></center>"
   ]
  },
  {
   "cell_type": "markdown",
   "metadata": {},
   "source": [
    "1. Write your answer in the cell provided under each question.\n",
    "2. __Write comments__ in the code to explain your thoughts.\n",
    "3. Show your execution result.\n",
    "4. Do not use pandas, NumPy or other packages we have nor covered yet. \n",
    "4. __Do your own work.__    \n",
    "\n",
    "### Submission:\n",
    " * __Submit this notebook file and the pdf version__ - remember to add your name in the filename.\n",
    " * Deadline: 11:59 pm, 2/4 (Sunday)"
   ]
  },
  {
   "cell_type": "markdown",
   "metadata": {},
   "source": [
    "### Q1: Mary Had a Little Lamb (15 Points)"
   ]
  },
  {
   "cell_type": "code",
   "execution_count": 2,
   "metadata": {},
   "outputs": [],
   "source": [
    "title = 'mary HAD a little lamb'\n",
    "\n",
    "lyrics = '''\n",
    "Mary had a little limb,\n",
    "Little limb, little limb.\n",
    "Mary had a little limb\n",
    "Its fleece was white as snow.\n",
    "\n",
    "And everywhere that Mary went,\n",
    "Mary went, Mary went,\n",
    "Everywhere that Mary went\n",
    "The limb was sure to go.\n",
    "\n",
    "It followed her to school one day,\n",
    "School one day, school one day.\n",
    "It followed her to school one day\n",
    "Which was against the rules.\n",
    "\n",
    "It made the children laugh and play,\n",
    "Laugh and play, laugh and play.\n",
    "It made the children laugh and play,\n",
    "To see a limb at school.\n",
    "'''"
   ]
  },
  {
   "cell_type": "markdown",
   "metadata": {},
   "source": [
    "### Q1.1 The song title is not properly capitalized. Use string method to correct it to \"Mary Had a Little Lamb\"."
   ]
  },
  {
   "cell_type": "code",
   "execution_count": 19,
   "metadata": {},
   "outputs": [
    {
     "name": "stdout",
     "output_type": "stream",
     "text": [
      "Mary Had a Little Lamb\n"
     ]
    }
   ],
   "source": [
    "title = title.lower() # makes the entire title lower cased\n",
    "title = title.title() # Captilizes every first letter of the phrase\n",
    "split = (title.split()) # Puts in the phrase in a list\n",
    "split[2] = 'a' # replaces \"A\" with \"a\"\n",
    "newtitle = \" \".join(split) # Combines them once more\n",
    "print (newtitle) # Prints out the new title"
   ]
  },
  {
   "cell_type": "markdown",
   "metadata": {},
   "source": [
    "### Q1.2 The word \"lamb\" is misspelled in several places. Please find them and correct the spelling. "
   ]
  },
  {
   "cell_type": "code",
   "execution_count": 20,
   "metadata": {},
   "outputs": [
    {
     "name": "stdout",
     "output_type": "stream",
     "text": [
      "\n",
      "Mary had a little lamb,\n",
      "Little lamb, little lamb.\n",
      "Mary had a little lamb\n",
      "Its fleece was white as snow.\n",
      "\n",
      "And everywhere that Mary went,\n",
      "Mary went, Mary went,\n",
      "Everywhere that Mary went\n",
      "The lamb was sure to go.\n",
      "\n",
      "It followed her to school one day,\n",
      "School one day, school one day.\n",
      "It followed her to school one day\n",
      "Which was against the rules.\n",
      "\n",
      "It made the children laugh and play,\n",
      "Laugh and play, laugh and play.\n",
      "It made the children laugh and play,\n",
      "To see a lamb at school.\n",
      "\n"
     ]
    }
   ],
   "source": [
    "newlyrics = lyrics.replace('limb', 'lamb') #replaces every limb with lamb\n",
    "print (newlyrics)"
   ]
  },
  {
   "cell_type": "markdown",
   "metadata": {},
   "source": [
    "### Q1.3 How many words are in this song, not including commas, periods, spaces and new lines?\n",
    "\n",
    "Note: Use string method split( ) first."
   ]
  },
  {
   "cell_type": "code",
   "execution_count": 35,
   "metadata": {},
   "outputs": [
    {
     "name": "stdout",
     "output_type": "stream",
     "text": [
      "['Mary', 'had', 'a', 'little', 'limb,', 'Little', 'limb,', 'little', 'limb.', 'Mary', 'had', 'a', 'little', 'limb', 'Its', 'fleece', 'was', 'white', 'as', 'snow.', 'And', 'everywhere', 'that', 'Mary', 'went,', 'Mary', 'went,', 'Mary', 'went,', 'Everywhere', 'that', 'Mary', 'went', 'The', 'limb', 'was', 'sure', 'to', 'go.', 'It', 'followed', 'her', 'to', 'school', 'one', 'day,', 'School', 'one', 'day,', 'school', 'one', 'day.', 'It', 'followed', 'her', 'to', 'school', 'one', 'day', 'Which', 'was', 'against', 'the', 'rules.', 'It', 'made', 'the', 'children', 'laugh', 'and', 'play,', 'Laugh', 'and', 'play,', 'laugh', 'and', 'play.', 'It', 'made', 'the', 'children', 'laugh', 'and', 'play,', 'To', 'see', 'a', 'limb', 'at', 'school.']\n",
      "90\n"
     ]
    }
   ],
   "source": [
    "split = lyrics.split() # makes each word into a list\n",
    "print (len(split)) # "
   ]
  },
  {
   "cell_type": "markdown",
   "metadata": {},
   "source": [
    "### Q2: Palindrome or Symmetrical String (20 Points)\n",
    "\n",
    "Write a Python program to check whether an input string is palindrome or symmetrical.\n",
    "    \n",
    "    A sequence is said to be palindrome if one half of the string is the reverse of the other half, e.g., \"madam\".\n",
    "    A sequence is said to be symmetrical if both halves of the string are the same, e.g., \"abcabc\"\n",
    "    \n",
    "    **Note: if there are odd number of letters in a string, the middle one is ignored.\n",
    "    **Note: the string is case insensitive\n",
    "    \n",
    "**Hint:** use the string slice( ) method to divide the string into 2 halves.\n",
    "\n",
    "To show your work, use those input strings: \"level\", \"Cosco\", \"aaaAAaaa\"."
   ]
  },
  {
   "cell_type": "code",
   "execution_count": 83,
   "metadata": {},
   "outputs": [
    {
     "name": "stdout",
     "output_type": "stream",
     "text": [
      "le\n",
      "level Not Symmetrical\n",
      "level is a Palindrome\n",
      "oc\n",
      "cosco is Symmetrical\n",
      "cosco is not a Palindrome\n",
      "aaaaaaaa Symmetrical\n",
      "aaaaaaaa is a Palindrome\n"
     ]
    }
   ],
   "source": [
    "strings = ['level', 'Cosco', 'aaaAAaaa']\n",
    "for i in range (len(strings)):\n",
    "    word = (strings[i]) # put the word in a list to a variable\n",
    "    word = word.lower() # lowercases the entire word for comparisions\n",
    "    length = len(strings[i]) # takes the number of letters in each item of the list\n",
    "    middle = length/2 # takes the middle number in decimal form\n",
    "    middle = int(middle) # converts the decimal form to an integer rounded down\n",
    "    \n",
    "    if ((length%2) == 1): # compares if the length of the word is odd or even\n",
    "        fhalf = (word[0 : middle]) # first half of an odd word\n",
    "        lhalf = (word[(middle + 1) : length]) #second half of an odd word \n",
    "        rlhalf = ''.join(reversed(lhalf)) #reversal of the second half\n",
    "        print (rlhalf)\n",
    "        if (fhalf == lhalf): # compares if it's symmetric or not\n",
    "            print (word + ' is Symmetrical') # prints if an odd number is symmetric\n",
    "        else:\n",
    "            print (word + ' Not Symmetrical')# prints if an odd number is symmetric\n",
    "            \n",
    "        if (fhalf == rlhalf): # checks if it's a Palindrome or not\n",
    "            print (word + ' is a Palindrome')\n",
    "        else:\n",
    "            print (word + \" is not a Palindrome\")\n",
    "    else:\n",
    "        fhalf = (word[0 : middle]) # first half of an even word\n",
    "        lhalf = (word[(middle) : length]) #second half of an even word \n",
    "        rlhalf = ''.join(reversed(lhalf)) #reversal of the second half\n",
    "        \n",
    "        if (fhalf == lhalf): # compares if it's symmetric or not\n",
    "            print (word + ' Symmetrical') # prints if an even number is symmetric\n",
    "        else:\n",
    "            print (word + ' Not Symmetrical') # prints if an even number is symmetric\n",
    "            \n",
    "        if (fhalf == rlhalf): # checks if it's a Palindrome or not\n",
    "            print (word + ' is a Palindrome') # prints it's a Palindrome\n",
    "        else:\n",
    "            print (word + \" is not a Palindrome\") # print it's not a Palindrome\n",
    "    "
   ]
  },
  {
   "cell_type": "markdown",
   "metadata": {},
   "source": [
    "### Q3: List Comprehension - Exploring State Names (30 Points)\n",
    "\n",
    "Given the a list of 50 state names, please use list comprehension to answer the following questions. "
   ]
  },
  {
   "cell_type": "code",
   "execution_count": 100,
   "metadata": {},
   "outputs": [],
   "source": [
    "#--------------------------------------------------------------\n",
    "# 50 state names as a list\n",
    "#--------------------------------------------------------------\n",
    "states = ['Alabama','Alaska','Arizona','Arkansas','California','Colorado',\n",
    "          'Connecticut','Delaware','Florida','Georgia','Hawaii','Idaho',\n",
    "          'Illinois','Indiana','Iowa','Kansas','Kentucky','Louisiana',\n",
    "          'Maine','Maryland','Massachusetts','Michigan','Minnesota',\n",
    "          'Mississippi','Missouri','Montana','Nebraska','Nevada',\n",
    "          'New Hampshire','New Jersey','New Mexico','New York',\n",
    "          'North Carolina','North Dakota','Ohio','Oklahoma','Oregon',\n",
    "          'Pennsylvania','Rhode Island','South Carolina','South Dakota',\n",
    "          'Tennessee','Texas','Utah','Vermont','Virginia','Washington',\n",
    "          'West Virginia','Wisconsin','Wyoming']"
   ]
  },
  {
   "cell_type": "markdown",
   "metadata": {},
   "source": [
    "### Q3.1 What are the top 3 states with the longest one-word name?  \n",
    "\n",
    "Hint: Remember do not consider states such New York, North Carolina etc. which have two words."
   ]
  },
  {
   "cell_type": "code",
   "execution_count": 101,
   "metadata": {},
   "outputs": [
    {
     "name": "stdout",
     "output_type": "stream",
     "text": [
      "Massachusetts , Pennsylvania , Mississippi\n"
     ]
    }
   ],
   "source": [
    "newlist = [] # list to hold states with one name\n",
    "for i in range (len(states)): # for loop to detect any spaces in the list\n",
    "    if \" \" not in states[i]: # checks if there's any spaces in the list\n",
    "        newlist.append(states[i]) # adds the one-word named states to the newlist\n",
    "length = len(newlist)\n",
    "newlist.sort(key=len)\n",
    "print (newlist[length - 1],\",\",newlist[length - 2],\",\",newlist[length -3])\n",
    "        \n"
   ]
  },
  {
   "cell_type": "markdown",
   "metadata": {},
   "source": [
    "### Q3.2 Which states start and end with the same letter, for example, Alaska starts and ends with 'a'?"
   ]
  },
  {
   "cell_type": "code",
   "execution_count": 102,
   "metadata": {},
   "outputs": [
    {
     "name": "stdout",
     "output_type": "stream",
     "text": [
      "alabama\n",
      "alaska\n",
      "arizona\n",
      "ohio\n"
     ]
    }
   ],
   "source": [
    "for i in range (len(states)): # for loop to add all states that starts and ends with the same letter to \"same\" list\n",
    "    word = states[i] # stores a word of each iteration into a variable\n",
    "    word = word.lower() # lowercases all the states' letters\n",
    "    length = len(word) # get the length of each individual word\n",
    "    if (word[0] == word[length - 1]): # compares the first and last letter of the word\n",
    "        print (word)"
   ]
  },
  {
   "cell_type": "markdown",
   "metadata": {},
   "source": [
    "### Q3.3 Which alphabetic letter is not present in any of the state names? Yep, there's only one."
   ]
  },
  {
   "cell_type": "code",
   "execution_count": 103,
   "metadata": {},
   "outputs": [
    {
     "name": "stdout",
     "output_type": "stream",
     "text": [
      "['q']\n"
     ]
    }
   ],
   "source": [
    "alphabet = ['a', 'b', 'c', 'd', 'e', 'f', 'g', 'h', 'i', 'j', 'k', 'l', 'm', 'n', 'o', 'p', 'q', 'r', 's', 't', 'u', 'v', 'w', 'x', 'y', 'z']\n",
    "# alphabet list to compare to states\n",
    "\n",
    "def letter(word): # Function that returns all letters in the word\n",
    "    return list(word)  # Convert the word into a list of letters\n",
    "\n",
    "for i in range(len(states)): # Loop to cycle through the states\n",
    "    word = states[i]  # Get each state from the list\n",
    "    word = word.lower()  # Lowercase all words\n",
    "    let = letter(word)  # Get letters of the state\n",
    "\n",
    "    for a in let: # Remove matching letters from alphabet\n",
    "        if a in alphabet:  # Check if the letter exists in alphabet\n",
    "            alphabet.remove(a)  # Remove the letter from alphabet\n",
    "\n",
    "# Print remaining letters in the alphabet after all states\n",
    "print(alphabet)               "
   ]
  },
  {
   "cell_type": "markdown",
   "metadata": {},
   "source": [
    "### Q3.4 Which states names have no character repetition? For example, Florida has 7 distict letters and no repetition."
   ]
  },
  {
   "cell_type": "code",
   "execution_count": 104,
   "metadata": {},
   "outputs": [
    {
     "name": "stdout",
     "output_type": "stream",
     "text": [
      "florida\n",
      "idaho\n",
      "iowa\n",
      "maine\n",
      "new york\n",
      "texas\n",
      "utah\n",
      "vermont\n",
      "wyoming\n"
     ]
    }
   ],
   "source": [
    "for i in range (len(states)): # goes through states\n",
    "    word = states[i] # captures each state\n",
    "    word = word.lower() #lowercases all the letters in states\n",
    "    letter = list(word) # captures all the letter\n",
    "    norep = set(word) # makes sure their are no duplicates in the letters of each state\n",
    "    if len(letter) == len(norep):\n",
    "        print(word)\n",
    "        "
   ]
  },
  {
   "cell_type": "markdown",
   "metadata": {},
   "source": [
    "### Q3.5: Which state names do not have the letter 'a' at all?"
   ]
  },
  {
   "cell_type": "code",
   "execution_count": 108,
   "metadata": {},
   "outputs": [
    {
     "name": "stdout",
     "output_type": "stream",
     "text": [
      "connecticut\n",
      "illinois\n",
      "kentucky\n",
      "mississippi\n",
      "missouri\n",
      "new jersey\n",
      "new mexico\n",
      "new york\n",
      "ohio\n",
      "oregon\n",
      "tennessee\n",
      "vermont\n",
      "wisconsin\n",
      "wyoming\n"
     ]
    }
   ],
   "source": [
    "noa = states[:] # a list that captures the list in states without distorting the original list\n",
    "for i in range (len(states)): # goes through states\n",
    "    word = states[i] # captures each state\n",
    "    word = word.lower() #lowercases all the letters in states\n",
    "    let = list(word) # captures all the letter\n",
    "    if ('a' not in let): # checks to which states does not have the letter a in it\n",
    "        print (word) # prints out the state which does not\n"
   ]
  },
  {
   "cell_type": "markdown",
   "metadata": {},
   "source": [
    "<h3> Q4: List Operations (20 points) </h3>\n",
    "\n",
    "You will first generate a list of 10 random integers from 1 to 1000 by using the Python random module. Save the list (let's call it A) and write a short snippet for each of the following task:\n",
    "\n",
    "1. Pick and sort first the odd numbers then the even numbers in ascending order and print the final list, e.g. [1 3 51 4 16 32]\n",
    "2. Extract only the items that are less than 250.\n",
    "3. Create a new list where each item y is the square of the correpsonding item in A.\n",
    "4. Extract the items that are NOT divisible by 3 and NOT divisible by 7"
   ]
  },
  {
   "cell_type": "code",
   "execution_count": 23,
   "metadata": {},
   "outputs": [
    {
     "name": "stdout",
     "output_type": "stream",
     "text": [
      "[761, 562, 830, 985, 371, 483, 929, 285, 466, 135]\n"
     ]
    }
   ],
   "source": [
    "# Note: you can use random.randint() to generate the random integers\n",
    "import random\n",
    "A =[] # list to hold random integers\n",
    "for i in range (10): # produces random integer from 1-1000 into list A\n",
    "    A.append(random.randint(1, 1000))\n",
    "print (A)"
   ]
  },
  {
   "cell_type": "code",
   "execution_count": 24,
   "metadata": {},
   "outputs": [
    {
     "name": "stdout",
     "output_type": "stream",
     "text": [
      "[985, 929, 761, 483, 371, 285, 135, 830, 562, 466]\n"
     ]
    }
   ],
   "source": [
    "#Q4_1\n",
    "import random\n",
    "odd = [] # list to hold odd integers from list A\n",
    "even = [] # list to hold even integers from list A\n",
    "sort = [] # list to hold the sorted values\n",
    "\n",
    "for j in range (10): # captures all the odd numbers from list A into odd list\n",
    "    if (A[j]%2 == 1): # checks if the number from list A is odd\n",
    "        odd.append(A[j]) # adds the number from list A to odd\n",
    "odd.sort(reverse=True) # sorts the list from greatest to smallest in value\n",
    "\n",
    "for x in range (10): # captures all the even numbers from list A into even list\n",
    "    if (A[x]%2 == 0): # checks if the number from list A is even\n",
    "        even.append(A[x]) # adds the number from list A to even\n",
    "even.sort(reverse=True) # sorts the list from greatest to smallest in value\n",
    "\n",
    "sort = odd + even # combines odd and even, making odd first\n",
    "print (sort) # prints the sorted lis"
   ]
  },
  {
   "cell_type": "code",
   "execution_count": 25,
   "metadata": {},
   "outputs": [
    {
     "name": "stdout",
     "output_type": "stream",
     "text": [
      "[135]\n"
     ]
    }
   ],
   "source": [
    "#Q4_2\n",
    "\n",
    "less = [] # list to hold numbers less than 250\n",
    "\n",
    "for i in range (10): # goes through list A\n",
    "    if A[i] < (250): # checks if the number is less than 250\n",
    "        less.append(A[i]) #adds the number to list less\n",
    "print (less) # prints out list less"
   ]
  },
  {
   "cell_type": "code",
   "execution_count": 26,
   "metadata": {},
   "outputs": [
    {
     "name": "stdout",
     "output_type": "stream",
     "text": [
      "[579121, 315844, 688900, 970225, 137641, 233289, 863041, 81225, 217156, 18225]\n"
     ]
    }
   ],
   "source": [
    "#Q4_3\n",
    "y = [] # list to hold the squares of each number\n",
    "for i in range (10): # goes through list A\n",
    "    y.append((A[i]) * (A[i])) # takes the square of the number and store it into list y \n",
    "print (y) # prints out list y"
   ]
  },
  {
   "cell_type": "code",
   "execution_count": 27,
   "metadata": {},
   "outputs": [
    {
     "name": "stdout",
     "output_type": "stream",
     "text": [
      "[761, 562, 830, 985, 929, 466]\n"
     ]
    }
   ],
   "source": [
    "#Q4_4\n",
    "\n",
    "divisible = [] # a list that's not divisible by 3 and 7\n",
    "\n",
    "for j in range (10): # goes through list A\n",
    "    if (A[j]%3 != 0 and A[j]%7 != 0): # checks if the number from list A is divisible by 3 and 7\n",
    "        divisible.append(A[j]) # adds the number from list A to divisible\n",
    "print (divisible) # prints the numbers that are not divisible by 3 and 7"
   ]
  },
  {
   "cell_type": "markdown",
   "metadata": {},
   "source": [
    "### Q5: Order of Planets (15 Points)\n",
    "\n",
    "In the solar system, the planets, in order of their distances from the Sun (closest to farthest), are Mercury, Venus, Earth, Mars, Jupiter, Saturn, Uranus, and Neptune. Given an incomplete and out-of-order list, please use list methods to make it right."
   ]
  },
  {
   "cell_type": "code",
   "execution_count": 110,
   "metadata": {},
   "outputs": [],
   "source": [
    "planets = ['venus', 'mercury', 'mars', 'jupiter', 'earth']"
   ]
  },
  {
   "cell_type": "code",
   "execution_count": 112,
   "metadata": {},
   "outputs": [
    {
     "name": "stdout",
     "output_type": "stream",
     "text": [
      "['mercury', 'venus', 'earth', 'mars', 'jupiter']\n"
     ]
    }
   ],
   "source": [
    "newplanets = []\n",
    "newplanets.append(planets[1])\n",
    "newplanets.append(planets[0])\n",
    "newplanets.append(planets[4])\n",
    "newplanets.append(planets[2])\n",
    "newplanets.append(planets[3])\n",
    "print (newplanets)"
   ]
  },
  {
   "cell_type": "code",
   "execution_count": null,
   "metadata": {},
   "outputs": [],
   "source": []
  }
 ],
 "metadata": {
  "kernelspec": {
   "display_name": "Python 3 (ipykernel)",
   "language": "python",
   "name": "python3"
  },
  "language_info": {
   "codemirror_mode": {
    "name": "ipython",
    "version": 3
   },
   "file_extension": ".py",
   "mimetype": "text/x-python",
   "name": "python",
   "nbconvert_exporter": "python",
   "pygments_lexer": "ipython3",
   "version": "3.11.5"
  }
 },
 "nbformat": 4,
 "nbformat_minor": 2
}
