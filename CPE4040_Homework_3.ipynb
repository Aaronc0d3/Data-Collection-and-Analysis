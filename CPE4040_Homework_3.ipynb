{
 "cells": [
  {
   "cell_type": "markdown",
   "metadata": {},
   "source": [
    "<center><h1> CPE 4040: Homework 3</h1></center>"
   ]
  },
  {
   "cell_type": "markdown",
   "metadata": {
    "jp-MarkdownHeadingCollapsed": true
   },
   "source": [
    "1. Write your answer in the cell provided under each question.\n",
    "2. __You must write comments to explain your thoughts and earn full credit__.\n",
    "3. __Show your execution result__.\n",
    "4. Do your own work. __Do not copy-and-paste other people's (or Generative AI's) codes.__\n",
    "5. Please do not use pandas since it is not covered yet.\n",
    "\n",
    "### Submission:\n",
    " * __Submit this notebook file and the pdf version__ - remember to add your name in the filename."
   ]
  },
  {
   "cell_type": "code",
   "execution_count": 20,
   "metadata": {},
   "outputs": [],
   "source": [
    "import numpy as np"
   ]
  },
  {
   "cell_type": "markdown",
   "metadata": {},
   "source": [
    "### Check your Numpy Version"
   ]
  },
  {
   "cell_type": "code",
   "execution_count": 21,
   "metadata": {},
   "outputs": [
    {
     "data": {
      "text/plain": [
       "'1.24.3'"
      ]
     },
     "execution_count": 21,
     "metadata": {},
     "output_type": "execute_result"
    }
   ],
   "source": [
    "np.version.version"
   ]
  },
  {
   "cell_type": "markdown",
   "metadata": {},
   "source": [
    "<h3>Q1: Checker Board (10 Points)</h3>"
   ]
  },
  {
   "cell_type": "raw",
   "metadata": {},
   "source": [
    "Please write NumPy codes to generate this 9x9 matrix -\n",
    "\n",
    "   [[1 0 0 1 0 0 1 0 0]\n",
    "    [0 1 0 0 1 0 0 1 0]\n",
    "    [0 0 1 0 0 1 0 0 1]\n",
    "    [1 0 0 1 0 0 1 0 0]\n",
    "    [0 1 0 0 1 0 0 1 0]\n",
    "    [0 0 1 0 0 1 0 0 1]\n",
    "    [1 0 0 1 0 0 1 0 0]\n",
    "    [0 1 0 0 1 0 0 1 0]\n",
    "    [0 0 1 0 0 1 0 0 1]]\n",
    "    \n",
    "    Note: you cannot simply copy the numbers. Pay attention to the pattern. There are many ways to do this."
   ]
  },
  {
   "cell_type": "code",
   "execution_count": 22,
   "metadata": {},
   "outputs": [
    {
     "name": "stdout",
     "output_type": "stream",
     "text": [
      "[[1 0 0 1 0 0 1 0 0]\n",
      " [0 1 0 0 1 0 0 1 0]\n",
      " [0 0 1 0 0 1 0 0 1]\n",
      " [1 0 0 1 0 0 1 0 0]\n",
      " [0 1 0 0 1 0 0 1 0]\n",
      " [0 0 1 0 0 1 0 0 1]\n",
      " [1 0 0 1 0 0 1 0 0]\n",
      " [0 1 0 0 1 0 0 1 0]\n",
      " [0 0 1 0 0 1 0 0 1]]\n"
     ]
    }
   ],
   "source": [
    "block = np.array([[1, 0, 0], # Define a base 3x3 repeating block\n",
    "                  [0, 1, 0],\n",
    "                  [0, 0, 1]])\n",
    "\n",
    "matrix = np.tile(block, (3, 3)) # Use np.tile to repeat the block to form the 9x9 matrix\n",
    "\n",
    "print(matrix)"
   ]
  },
  {
   "cell_type": "markdown",
   "metadata": {},
   "source": [
    "<h3>Q2: Array Indexing and Slicing (12 Points) </h3>"
   ]
  },
  {
   "cell_type": "markdown",
   "metadata": {},
   "source": [
    "#### Q2.1 Please convert this vector, `np.arange(48)`, into a 8x6 array, i.e, 8 rows and 6 columns. Let's call this array A."
   ]
  },
  {
   "cell_type": "code",
   "execution_count": 23,
   "metadata": {},
   "outputs": [
    {
     "name": "stdout",
     "output_type": "stream",
     "text": [
      "[[ 0  1  2  3  4  5]\n",
      " [ 6  7  8  9 10 11]\n",
      " [12 13 14 15 16 17]\n",
      " [18 19 20 21 22 23]\n",
      " [24 25 26 27 28 29]\n",
      " [30 31 32 33 34 35]\n",
      " [36 37 38 39 40 41]\n",
      " [42 43 44 45 46 47]]\n"
     ]
    }
   ],
   "source": [
    "vector = np.arange(48)\n",
    "A = np.reshape(vector, (8,6))\n",
    "print (A)"
   ]
  },
  {
   "cell_type": "markdown",
   "metadata": {},
   "source": [
    "#### Q2.2 Write codes to extract the elements in columns 2, 3, and 5 from A."
   ]
  },
  {
   "cell_type": "code",
   "execution_count": 24,
   "metadata": {},
   "outputs": [
    {
     "name": "stdout",
     "output_type": "stream",
     "text": [
      "[ 2  8 14 20 26 32 38 44]\n",
      "[ 3  9 15 21 27 33 39 45]\n",
      "[ 5 11 17 23 29 35 41 47]\n"
     ]
    }
   ],
   "source": [
    "two = (A[:,2]) # column 2\n",
    "print (two)\n",
    "three = (A[:,3]) # column 3\n",
    "print (three)\n",
    "five = (A[:,5]) # column 5\n",
    "print (five)\n"
   ]
  },
  {
   "cell_type": "markdown",
   "metadata": {},
   "source": [
    "#### Q2.3 Create a new 3x5 array, with elements from rows 6, 1, 3 of A (in that order). __Hint: use fancy indexing__"
   ]
  },
  {
   "cell_type": "code",
   "execution_count": 25,
   "metadata": {},
   "outputs": [
    {
     "name": "stdout",
     "output_type": "stream",
     "text": [
      "[[19 21 23 25 27]\n",
      " [29 31 33 35 37]\n",
      " [39 41 43 45 47]]\n"
     ]
    }
   ],
   "source": [
    "cols = [1,3,5]\n",
    "tbf = (A[3:, cols])\n",
    "print (tbf.reshape(3,5))"
   ]
  },
  {
   "cell_type": "markdown",
   "metadata": {},
   "source": [
    "#### Q2.4 Write codes to extract four elements from A with the following indices (4,2), (5,0), (1,2), (3,3)."
   ]
  },
  {
   "cell_type": "code",
   "execution_count": 26,
   "metadata": {},
   "outputs": [
    {
     "name": "stdout",
     "output_type": "stream",
     "text": [
      "26\n",
      "30\n",
      "8\n",
      "21\n"
     ]
    }
   ],
   "source": [
    "first = (A[4,2])\n",
    "print (first)\n",
    "second = (A[5,0])\n",
    "print (second)\n",
    "third = (A[1,2])\n",
    "print (third)\n",
    "fourth = (A[3,3])\n",
    "print (fourth)"
   ]
  },
  {
   "cell_type": "markdown",
   "metadata": {},
   "source": [
    "<h3>Q3: Array Processing (15 points)</h3>\n",
    "<h4>Given a 9-by-9 matrix of random integers from 0 to 99:</h4>"
   ]
  },
  {
   "cell_type": "code",
   "execution_count": 27,
   "metadata": {},
   "outputs": [
    {
     "name": "stdout",
     "output_type": "stream",
     "text": [
      "[[37 12 72  9 75  5 79 64 16]\n",
      " [ 1 76 71  6 25 50 20 18 84]\n",
      " [11 28 29 14 50 68 87 87 94]\n",
      " [96 86 13  9  7 63 61 22 57]\n",
      " [ 1  0 60 81  8 88 13 47 72]\n",
      " [30 71  3 70 21 49 57  3 68]\n",
      " [24 43 76 26 52 80 41 82 15]\n",
      " [64 68 25 98 87  7 26 25 22]\n",
      " [ 9 67 23 27 37 57 83 38  8]]\n"
     ]
    }
   ],
   "source": [
    "np.random.seed(1)\n",
    "arr = np.random.randint(100,size=(9,9))\n",
    "print(arr)"
   ]
  },
  {
   "cell_type": "markdown",
   "metadata": {},
   "source": [
    "<h4>Q3.1 Observe that each 9x9 matrix is essentially nine blocks of 3x3 matrix. Write a Python code to calculate the mean value for each of the 3x3 matrix.</h4>\n",
    "<h4> Hint: use array slicing to index each of the 9 sub-block.</h4>"
   ]
  },
  {
   "cell_type": "code",
   "execution_count": 28,
   "metadata": {},
   "outputs": [
    {
     "name": "stdout",
     "output_type": "stream",
     "text": [
      "37.44444444444444\n",
      "40.0\n",
      "44.333333333333336\n",
      "33.55555555555556\n",
      "44.0\n",
      "52.333333333333336\n",
      "61.0\n",
      "44.44444444444444\n",
      "37.77777777777778\n"
     ]
    }
   ],
   "source": [
    "arrone = (arr[:3, :3]) #topleft 3x3\n",
    "arrtwo = (arr[3:6, :3]) #middleleft 3x3\n",
    "arrthree= (arr[6:9, :3]) #bottomleft 3x3\n",
    "arrfour = (arr[:3, 3:6]) #topmiddle 3x3\n",
    "arrfive = (arr[3:6, 3:6]) #middle 3x3\n",
    "arrsix = (arr[6:9, 3:6]) #topmiddle 3x3\n",
    "arrseven = (arr[:3, 6:9]) #topright 3x3\n",
    "arreight = (arr[3:6, 6:9]) #middleright 3x3\n",
    "arrnine = (arr[6:9, 6:9]) #bottomright 3x3\n",
    "meanone = (arrone.sum())/9\n",
    "print(meanone)\n",
    "meantwo = (arrtwo.sum())/9\n",
    "print(meantwo)\n",
    "meanthree = (arrthree.sum())/9\n",
    "print(meanthree)\n",
    "meanfour = (arrfour.sum())/9\n",
    "print(meanfour)\n",
    "meanfive = (arrfive.sum())/9\n",
    "print(meanfive)\n",
    "meansix = (arrsix.sum())/9\n",
    "print(meansix)\n",
    "meanseven = (arrseven.sum())/9\n",
    "print(meanseven)\n",
    "meaneight = (arreight.sum())/9\n",
    "print(meaneight)\n",
    "meannine = (arrnine.sum())/9\n",
    "print(meannine)"
   ]
  },
  {
   "cell_type": "markdown",
   "metadata": {},
   "source": [
    "<h4>Q3.2 What is the maximum value in the array? What is the index of the maximum value?</h4>\n",
    "<h4>Note: use argmax()."
   ]
  },
  {
   "cell_type": "code",
   "execution_count": 36,
   "metadata": {},
   "outputs": [
    {
     "name": "stdout",
     "output_type": "stream",
     "text": [
      "[[ 0  1  1  3  3  5  6  7  7  8  8  9  9  9 11 12 13 13 14 15 16 18 20 21\n",
      "  22 22 23 24 25 25 25 26 26 27 28 29 30 37 37 38 41 43 47 49 50 50 52 57\n",
      "  57 57 60 61 63 64 64 67 68 68 68 70 71 71 72 72 75 76 76 79 80 81 82 83\n",
      "  84 86 87 87 87 88 94 96 98]]\n",
      "98\n"
     ]
    }
   ],
   "source": [
    "reshape = np.reshape(arr, (1,81))\n",
    "sort = np.sort(reshape)\n",
    "print (sort)\n",
    "print (sort[0][80])"
   ]
  },
  {
   "cell_type": "markdown",
   "metadata": {},
   "source": [
    "<h3>Q4: Rolling Dices (20 Points)</h3>\n",
    "    \n",
    "Assume that you have a fair dice of six faces, that is, it is equally likely to get any of the 6 possible outcomes for one dice roll.\n",
    "\n",
    "__Q4.1 (5 points): Applying the same method that we used for coin tosses, write a code to simulate the probability of occurrence for each of the 6 numbers. You will perform at least 1,000,000 rolls.__\n",
    "\n",
    "The result should be presented as follows:\n",
    "   * Number of 1's = 100,000. Probability = 16.67%\n",
    "   * Number of 2's = 96,000. Probability = 16.0%\n",
    "   * ......"
   ]
  },
  {
   "cell_type": "code",
   "execution_count": 46,
   "metadata": {},
   "outputs": [
    {
     "name": "stdout",
     "output_type": "stream",
     "text": [
      "[5 2 6 6 6 6 6 5 5 6 5 2 2 2 4 1 1 2 2 1]\n",
      "Number of 1's = 166146 . Probability = 16.6146\n",
      "Number of 2's = 166807 . Probability = 16.6807\n",
      "Number of 3's = 166393 . Probability = 16.639300000000002\n",
      "Number of 4's = 167080 . Probability = 16.708000000000002\n",
      "Number of 5's = 166683 . Probability = 16.6683\n",
      "Number of 6's = 166891 . Probability = 16.6891\n"
     ]
    }
   ],
   "source": [
    "n_roll=1000000\n",
    "\n",
    "roll = np.random.randint(1,7, size=n_roll)\n",
    "\n",
    "print(roll[:20])\n",
    "one = ((roll == 1).sum())\n",
    "two = ((roll == 2).sum())\n",
    "three = ((roll == 3).sum())\n",
    "four = ((roll == 4).sum())\n",
    "five = ((roll == 5).sum())\n",
    "six = ((roll == 6).sum())\n",
    "print (\"Number of 1's =\", one, \". Probability =\", (one/n_roll)*100)\n",
    "print (\"Number of 2's =\", two, \". Probability =\", (two/n_roll)*100)\n",
    "print (\"Number of 3's =\", three, \". Probability =\", (three/n_roll)*100)\n",
    "print (\"Number of 4's =\", four, \". Probability =\", (four/n_roll)*100)\n",
    "print (\"Number of 5's =\", five, \". Probability =\", (five/n_roll)*100)\n",
    "print (\"Number of 6's =\", six, \". Probability =\", (six/n_roll)*100)"
   ]
  },
  {
   "cell_type": "markdown",
   "metadata": {},
   "source": [
    "__Q4.2 (7 points): Suppose you are rolling two dices and add the two numbers together. The possible 11 outcomes range from 2 (1+1) to 12 (6+6).__ \n",
    "\n",
    "Write a simulation of 1,000,000 trials to find out the probability for each of the 11 outcomes.\n",
    "\n",
    "The result should be presented as follows:\n",
    "   * Number of 2's = 14,000. Probability = 2.80%\n",
    "   * Number of 3's = 27,800. Probability = 5.56%\n",
    "   * ....."
   ]
  },
  {
   "cell_type": "code",
   "execution_count": 48,
   "metadata": {},
   "outputs": [
    {
     "name": "stdout",
     "output_type": "stream",
     "text": [
      "[ 1  5  5  8  1  7 11 11  4 12  9  8  4 12  8  7  6 11  4  3]\n",
      "Number of 2's = 27817 . Probability = 2.7817000000000003\n",
      "Number of 3's = 55885 . Probability = 5.5885\n",
      "Number of 4's = 83416 . Probability = 8.3416\n",
      "Number of 5's = 110891 . Probability = 11.0891\n",
      "Number of 6's = 138567 . Probability = 13.8567\n",
      "Number of 7's = 167239 . Probability = 16.7239\n",
      "Number of 8's = 138553 . Probability = 13.855300000000002\n",
      "Number of 9's = 111108 . Probability = 11.1108\n",
      "Number of 10's = 83527 . Probability = 8.3527\n",
      "Number of 11's = 55327 . Probability = 5.5327\n",
      "Number of 12's = 27670 . Probability = 2.767\n"
     ]
    }
   ],
   "source": [
    "n_roll=1000000\n",
    "\n",
    "roll1 = np.random.randint(1,7, size=n_roll)\n",
    "roll2 = np.random.randint(1,7, size=n_roll)\n",
    "\n",
    "print(roll[:20])\n",
    "two = ((roll1 + roll2 == 2).sum())\n",
    "three = ((roll1 + roll2 == 3).sum())\n",
    "four = ((roll1 + roll2 == 4).sum())\n",
    "five = ((roll1 + roll2 == 5).sum())\n",
    "six = ((roll1 + roll2 == 6).sum())\n",
    "seven = ((roll1 + roll2 == 7).sum())\n",
    "eight = ((roll1 + roll2 == 8).sum())\n",
    "nine = ((roll1 + roll2 == 9).sum())\n",
    "ten = ((roll1 + roll2 == 10).sum())\n",
    "eleven = ((roll1 + roll2 == 11).sum())\n",
    "twelve = ((roll1 + roll2 == 12).sum())\n",
    "print (\"Number of 2's =\", two, \". Probability =\", (two/n_roll)*100)\n",
    "print (\"Number of 3's =\", three, \". Probability =\", (three/n_roll)*100)\n",
    "print (\"Number of 4's =\", four, \". Probability =\", (four/n_roll)*100)\n",
    "print (\"Number of 5's =\", five, \". Probability =\", (five/n_roll)*100)\n",
    "print (\"Number of 6's =\", six, \". Probability =\", (six/n_roll)*100)\n",
    "print (\"Number of 7's =\", seven, \". Probability =\", (seven/n_roll)*100)\n",
    "print (\"Number of 8's =\", eight, \". Probability =\", (eight/n_roll)*100)\n",
    "print (\"Number of 9's =\", nine, \". Probability =\", (nine/n_roll)*100)\n",
    "print (\"Number of 10's =\", ten, \". Probability =\", (ten/n_roll)*100)\n",
    "print (\"Number of 11's =\", eleven, \". Probability =\", (eleven/n_roll)*100)\n",
    "print (\"Number of 12's =\", twelve, \". Probability =\", (twelve/n_roll)*100)"
   ]
  },
  {
   "cell_type": "markdown",
   "metadata": {},
   "source": [
    "__Q4.3 (8 points): Suppose you roll an uneven dice 5 times, what is the probability of getting '4' exactly 3 times? The probability for each face of the dice is as follows.__\n",
    "\n",
    "      * P(1) = 0.10, P(2) = 0.15, P(3)=0.20, P(4) = 0.25, P(5) = 0.20, P(6) = 0.10\n",
    "\n",
    "Write a simulation of 1,000,000 trials for the answer."
   ]
  },
  {
   "cell_type": "code",
   "execution_count": 56,
   "metadata": {},
   "outputs": [
    {
     "name": "stdout",
     "output_type": "stream",
     "text": [
      "The probability of 4 being rolled 3 times is  1.3957000000000002\n"
     ]
    }
   ],
   "source": [
    "n_roll=1000000\n",
    "n_times=3\n",
    "\n",
    "draws=np.random.randint(1,7, size=(n_roll, n_times))\n",
    "\n",
    "four = np.sum(draws.sum(axis=1) == 4)\n",
    "\n",
    "probability = (four/n_roll) * 100\n",
    "\n",
    "print (\"The probability of 4 being rolled 3 times is \", probability)\n",
    "\n"
   ]
  },
  {
   "cell_type": "markdown",
   "metadata": {},
   "source": [
    "<h3>Q5: Picking Marbles (20 Points)</h3>\n",
    "\n",
    "__Q5.1 (10 points): You have a bag of 12 marbles, 6 are red, 4 are white, and 2 are blue. You randomly pick three marbles from the bag. What is the probability of drawing 1 red, 1 white, and 1 blue (in this order)? The theoretical result is 2/55 ~3.636%. Write a simulation of 100,000 trials to verify the answer.__ \n",
    "\n",
    "Hint: You can follow the steps here:\n",
    "1. Create an array of 12 elements, bag = np.array(['r','r','r','r','r','r','w','w','w','w','b','b'])\n",
    "2. Create the desired outcome of 3 marbels of red, white, and blue, bag3 = np.array(['r','w','b'])\n",
    "3. For each of the trial, you use np.random.permutation() to shuffle the bag array\n",
    "4. Create a Boolean array by comparing the first three elements of the shuffled array with the desired outcome.\n",
    "5. If the values the Boolean array are all True --> you have a match"
   ]
  },
  {
   "cell_type": "code",
   "execution_count": 58,
   "metadata": {},
   "outputs": [
    {
     "data": {
      "text/plain": [
       "0.03565"
      ]
     },
     "execution_count": 58,
     "metadata": {},
     "output_type": "execute_result"
    }
   ],
   "source": [
    "import numpy as np\n",
    "\n",
    "# Set up the bag of marbles\n",
    "bag = np.array(['r', 'r', 'r', 'r', 'r', 'r', 'w', 'w', 'w', 'w', 'b', 'b'])\n",
    "bag3 = np.array(['r', 'w', 'b'])\n",
    "\n",
    "# Number of trials\n",
    "trials = 100000\n",
    "matches = 0\n",
    "\n",
    "# Run the simulation for 100,000 trials\n",
    "for _ in range(trials):\n",
    "    shuffled_bag = np.random.permutation(bag)\n",
    "    if np.all(shuffled_bag[:3] == bag3):\n",
    "        matches += 1\n",
    "\n",
    "# Calculate the probability\n",
    "probability = matches / trials\n",
    "probability\n"
   ]
  },
  {
   "cell_type": "markdown",
   "metadata": {},
   "source": [
    "__Q5.2 (10 points) With the same bag, you again pick out three marbles. However, the order does not matter this time. What is the probability of drawing 1 red, 1 white, and 1 blue? The theoretical result is 12/55 ~21.82%. Write a simulation of 100,000 trials to verify the answer.__\n",
    "\n",
    "Hint: This question is different from Q5.1 since the order of the drawing is not important as long as you have {r,w,b} in the outcome. You should look for another way to compare the desired outcome with the shuffled arrays."
   ]
  },
  {
   "cell_type": "code",
   "execution_count": 60,
   "metadata": {},
   "outputs": [
    {
     "data": {
      "text/plain": [
       "0.21808"
      ]
     },
     "execution_count": 60,
     "metadata": {},
     "output_type": "execute_result"
    }
   ],
   "source": [
    "# Number of trials\n",
    "trials = 100000\n",
    "matches = 0\n",
    "bag = np.array(['r', 'r', 'r', 'r', 'r', 'r', 'w', 'w', 'w', 'w', 'b', 'b'])\n",
    "# Run the simulation for 100,000 trials where the order does not matter\n",
    "for _ in range(trials):\n",
    "    # Shuffle the bag and pick the first three elements\n",
    "    shuffled_bag = np.random.permutation(bag)\n",
    "    # Sort the first three elements and compare with the sorted desired outcome\n",
    "    if np.array_equal(np.sort(shuffled_bag[:3]), np.sort(bag3)):\n",
    "        matches += 1\n",
    "\n",
    "# Calculate the probability\n",
    "probability_orderless = matches / trials\n",
    "probability_orderless\n"
   ]
  },
  {
   "cell_type": "markdown",
   "metadata": {},
   "source": [
    "### Q6: Birthday Problem & Normal Distribution (23 Points)\n",
    "\n",
    "__Q6.1 (8 points) With 30 people in the same room, what is the probability that at least three people are sharing the same birthday? Write a simulation of 100,000 trials to find the answer.__"
   ]
  },
  {
   "cell_type": "code",
   "execution_count": null,
   "metadata": {},
   "outputs": [],
   "source": [
    "def simulate_birthdays(num_people, num_trials):\n",
    "    birthdays = np.random.randint(1, 366, (num_trials, num_people))\n",
    "    shared_birthdays = np.sum(np.max(np.eye(366)[birthdays], axis=1) >= 3, axis=1)\n",
    "    return np.mean(shared_birthdays)\n",
    "\n",
    "num_people = 30\n",
    "num_trials = 100000\n",
    "\n",
    "probability = simulate_birthdays(num_people, num_trials)\n",
    "print(f\"Probability of at least 3 people sharing a birthday in a room of {num_people}:\")\n",
    "print(f\"{probability:.4f} or {probability*100:.2f}%\")"
   ]
  },
  {
   "cell_type": "markdown",
   "metadata": {},
   "source": [
    "__Q6.2 (8 points) With 30 people in the same room, what is the probability that Exactly three people are sharing the same birthday? Write a simulation of 100,000 trials to find the answer.__"
   ]
  },
  {
   "cell_type": "code",
   "execution_count": null,
   "metadata": {},
   "outputs": [],
   "source": [
    "def simulate_birthdays(num_people, num_trials):\n",
    "    birthdays = np.random.randint(1, 366, (num_trials, num_people))\n",
    "    \n",
    "    # Count occurrences of each birthday\n",
    "    counts = np.apply_along_axis(lambda x: np.bincount(x, minlength=366), axis=1, arr=birthdays)\n",
    "    \n",
    "    # Check for exactly one birthday with exactly three people\n",
    "    exactly_three = np.sum(counts == 3, axis=1) == 1\n",
    "    no_more_than_three = np.all(counts <= 3, axis=1)\n",
    "    \n",
    "    matches = np.logical_and(exactly_three, no_more_than_three)\n",
    "    return np.mean(matches)\n",
    "\n",
    "num_people = 30\n",
    "num_trials = 100000\n",
    "\n",
    "probability = simulate_birthdays(num_people, num_trials)\n",
    "print(f\"Probability of exactly 3 people sharing the same birthday in a room of {num_people}:\")\n",
    "print(f\"{probability:.6f} or {probability*100:.4f}%\")"
   ]
  },
  {
   "cell_type": "markdown",
   "metadata": {},
   "source": [
    "__Q6.3 (7 poins) A company produces light bulbs, and the weight of each bulb is normally distributed with a mean of 50 grams and a standard deviation of 2 grams. If the company wants to package the bulbs in boxes of 10, what is the probability that the total weight of the bulbs in a box is between 495 and 505 grams? Write a simulation of 100,000 trials to answer this.__"
   ]
  },
  {
   "cell_type": "code",
   "execution_count": null,
   "metadata": {},
   "outputs": [],
   "source": [
    "import numpy as np\n",
    "\n",
    "def simulate_lightbulb_boxes(num_bulbs_per_box, num_boxes, mean_weight, std_weight, lower_limit, upper_limit):\n",
    "    # Generate weights for all bulbs in all boxes\n",
    "    bulb_weights = np.random.normal(mean_weight, std_weight, (num_boxes, num_bulbs_per_box))\n",
    "    \n",
    "    # Calculate total weight of each box\n",
    "    box_weights = np.sum(bulb_weights, axis=1)\n",
    "    \n",
    "    # Count boxes within the weight range\n",
    "    boxes_in_range = np.sum((box_weights >= lower_limit) & (box_weights <= upper_limit))\n",
    "    \n",
    "    # Calculate probability\n",
    "    probability = boxes_in_range / num_boxes\n",
    "    \n",
    "    return probability\n",
    "\n",
    "# Set parameters\n",
    "num_bulbs_per_box = 10\n",
    "num_boxes = 100000\n",
    "mean_weight = 50  # grams\n",
    "std_weight = 2    # grams\n",
    "lower_limit = 495 # grams\n",
    "upper_limit = 505 # grams\n",
    "\n",
    "# Run simulation\n",
    "result = simulate_lightbulb_boxes(num_bulbs_per_box, num_boxes, mean_weight, std_weight, lower_limit, upper_limit)\n",
    "\n",
    "print(f\"Probability that a box of {num_bulbs_per_box} bulbs weighs between {lower_limit} and {upper_limit} grams:\")\n",
    "print(f\"{result:.4f} or {result*100:.2f}%\")"
   ]
  }
 ],
 "metadata": {
  "kernelspec": {
   "display_name": "Python 3 (ipykernel)",
   "language": "python",
   "name": "python3"
  },
  "language_info": {
   "codemirror_mode": {
    "name": "ipython",
    "version": 3
   },
   "file_extension": ".py",
   "mimetype": "text/x-python",
   "name": "python",
   "nbconvert_exporter": "python",
   "pygments_lexer": "ipython3",
   "version": "3.11.5"
  }
 },
 "nbformat": 4,
 "nbformat_minor": 4
}
